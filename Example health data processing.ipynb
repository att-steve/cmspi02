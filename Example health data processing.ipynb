{
 "cells": [
  {
   "cell_type": "markdown",
   "metadata": {},
   "source": [
    "<div style='background:#07545C; width:100%; height:60px'>\n",
    "    <table style=\"width: 100%\">\n",
    "        <tr style='background:#07545C; width:100%; height:60px'>\n",
    "            <td style=\"width:143px;\">\n",
    "    <img style=\"max-height:35px;width:155px !important\" src=\"https://cmspi.awesometechtraining.com/wp-content/uploads/2020/02/logo-white-2x.png\"/></td>\n",
    "            <td style=\"width:150px; border-right: 2px solid #2D6879\">\n",
    "    <img style=\"max-height:45px;\" src=\"https://cmspi.awesometechtraining.com/wp-content/uploads/2020/02/awesome-tech-training-1.png\"/>\n",
    "            </td>\n",
    "            <td style=\"width:100%; text-align: left;padding-left:10px;\"><h1 style=\"font-size: 2.4vw; color: #eee; margin: 0 auto;\">Example health data</h1></td>\n",
    "    </table>\n",
    "\n",
    "</div>"
   ]
  },
  {
   "cell_type": "markdown",
   "metadata": {},
   "source": [
    "We take some COVID-19 data, reshape the data and then plot in an animated bar chart: "
   ]
  },
  {
   "cell_type": "code",
   "execution_count": null,
   "metadata": {},
   "outputs": [],
   "source": [
    "import plotly.express as px\n",
    "\n",
    "import pandas as pd\n",
    "import io\n",
    "import requests\n",
    "url=\"https://raw.githubusercontent.com/CSSEGISandData/COVID-19/master/csse_covid_19_data/csse_covid_19_time_series/time_series_19-covid-Confirmed.csv\"\n",
    "s=requests.get(url).content\n",
    "df=pd.read_csv(io.StringIO(s.decode('utf-8')))"
   ]
  },
  {
   "cell_type": "code",
   "execution_count": null,
   "metadata": {},
   "outputs": [],
   "source": [
    "df.head(5)"
   ]
  },
  {
   "cell_type": "markdown",
   "metadata": {},
   "source": [
    "I reshape the data based on the methods described here: \n",
    "https://towardsdatascience.com/seven-clean-steps-to-reshape-your-data-with-pandas-or-how-i-use-python-where-excel-fails-62061f86ef9c\n",
    "\n",
    "First define a multi-column index"
   ]
  },
  {
   "cell_type": "code",
   "execution_count": null,
   "metadata": {
    "scrolled": true
   },
   "outputs": [],
   "source": [
    "idx =['Province/State','Country/Region','Lat','Long']\n",
    "\n",
    "multi_indexed_df = df.set_index(idx)\n",
    "multi_indexed_df.head(2)"
   ]
  },
  {
   "cell_type": "markdown",
   "metadata": {},
   "source": [
    "Then stack the data to turn columns into rows: "
   ]
  },
  {
   "cell_type": "code",
   "execution_count": null,
   "metadata": {},
   "outputs": [],
   "source": [
    "stacked_df = multi_indexed_df.stack(dropna=False)\n",
    "stacked_df.head(5) "
   ]
  },
  {
   "cell_type": "markdown",
   "metadata": {},
   "source": [
    "Use reset_index to propagate the index down each row / date"
   ]
  },
  {
   "cell_type": "code",
   "execution_count": null,
   "metadata": {},
   "outputs": [],
   "source": [
    "long_df = stacked_df.reset_index()\n",
    "long_df.head(3)"
   ]
  },
  {
   "cell_type": "markdown",
   "metadata": {},
   "source": [
    "Show a graph (this step takes some time):"
   ]
  },
  {
   "cell_type": "code",
   "execution_count": null,
   "metadata": {},
   "outputs": [],
   "source": [
    "fig = px.bar(long_df, x=\"Country/Region\", y=0, color=\"Country/Region\",\n",
    "             animation_frame=\"level_4\", animation_group=\"Country/Region\", range_y=[0,6500])\n",
    "fig.show()"
   ]
  }
 ],
 "metadata": {
  "kernelspec": {
   "display_name": "Python 3",
   "language": "python",
   "name": "python3"
  },
  "language_info": {
   "codemirror_mode": {
    "name": "ipython",
    "version": 3
   },
   "file_extension": ".py",
   "mimetype": "text/x-python",
   "name": "python",
   "nbconvert_exporter": "python",
   "pygments_lexer": "ipython3",
   "version": "3.7.6"
  }
 },
 "nbformat": 4,
 "nbformat_minor": 4
}
